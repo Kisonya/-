{
 "cells": [
  {
   "cell_type": "markdown",
   "metadata": {},
   "source": [
    "1. Постановка задачи"
   ]
  },
  {
   "cell_type": "code",
   "execution_count": 2,
   "metadata": {},
   "outputs": [
    {
     "name": "stdout",
     "output_type": "stream",
     "text": [
      "   РњРµСЃСЏС†  Р’СЃРµРіРѕ_РїСЂРµСЃС‚СѓРїР»РµРЅРёР№  РЎРµСЂСЊРµР·РЅС‹Рµ   \n",
      "0  01.01.2003                             214587.0             88203.0  \\\n",
      "1  01.02.2003                             221928.0             88863.0   \n",
      "2  01.03.2003                             248452.0            101349.0   \n",
      "3  01.04.2003                             236299.0             91625.0   \n",
      "4  01.05.2003                             230931.0             89615.0   \n",
      "\n",
      "   Р‘РѕР»СЊС€РѕР№_СѓС‰РµСЂР±  Р­РєРѕР»РѕРіРёС‡РµСЃРєРёРµ  РўРµСЂСЂРѕСЂРёР·Рј   \n",
      "0                    20162.0                      1216.0               630.0  \\\n",
      "1                    20889.0                      1701.0               678.0   \n",
      "2                    24053.0                      1817.0               809.0   \n",
      "3                    19754.0                      2449.0               892.0   \n",
      "4                    17519.0                      3530.0               796.0   \n",
      "\n",
      "   Р­РєСЃС‚СЂРµРјРёР·Рј  РЈР±РёР№СЃС‚РІР°  Р’СЂРµРґ_Р·РґРѕСЂРѕРІСЊСЋ   \n",
      "0                  13.0            2749.0                     5559.0  \\\n",
      "1                   5.0            2444.0                     4732.0   \n",
      "2                  10.0            2864.0                     4851.0   \n",
      "3                  10.0            2919.0                     4722.0   \n",
      "4                  20.0            2713.0                     4895.0   \n",
      "\n",
      "   РР·РЅР°СЃРёР»РѕРІР°РЅРёСЏ  РљСЂР°Р¶Рё  РЈРіРѕРЅ_Р°РІС‚РѕРјРѕР±РёР»РµР№   \n",
      "0                       574.0     81014.0                           3549.0  \\\n",
      "1                       515.0     95970.0                           3697.0   \n",
      "2                       560.0     79420.0                           4327.0   \n",
      "3                       668.0     95215.0                           5345.0   \n",
      "4                       688.0     94505.0                           6374.0   \n",
      "\n",
      "   РњРѕС€РµРЅРЅРёС‡РµСЃС‚РІРѕ  РҐСѓР»РёРіР°РЅСЃС‚РІРѕ  РќР°СЂРєРѕС‚РёРєРё   \n",
      "0                      7731.0                 10560.0             16006.0  \\\n",
      "1                      7607.0                 10816.0             16839.0   \n",
      "2                      9437.0                 11813.0             20176.0   \n",
      "3                      7824.0                 12636.0             16614.0   \n",
      "4                      7122.0                 12234.0             14413.0   \n",
      "\n",
      "   РћСЂСѓР¶РёРµ  \n",
      "0        4661.0  \n",
      "1        5364.0  \n",
      "2        5938.0  \n",
      "3        5230.0  \n",
      "4        5112.0  \n",
      "       Р’СЃРµРіРѕ_РїСЂРµСЃС‚СѓРїР»РµРЅРёР№  РЎРµСЂСЊРµР·РЅС‹Рµ   \n",
      "count                           205.000000          205.000000  \\\n",
      "mean                         221279.019512        59068.487805   \n",
      "std                           51720.759692        20501.515982   \n",
      "min                          137657.000000        15755.000000   \n",
      "25%                          180711.000000        42135.000000   \n",
      "50%                          207550.000000        51426.000000   \n",
      "75%                          254352.000000        78407.000000   \n",
      "max                          359098.000000       108299.000000   \n",
      "\n",
      "       Р‘РѕР»СЊС€РѕР№_СѓС‰РµСЂР±  Р­РєРѕР»РѕРіРёС‡РµСЃРєРёРµ   \n",
      "count                 205.000000                  205.000000  \\\n",
      "mean                38402.039024                 2592.463415   \n",
      "std                 20755.286960                 1028.101551   \n",
      "min                  7424.000000                 1216.000000   \n",
      "25%                 21813.000000                 1888.000000   \n",
      "50%                 26357.000000                 2322.000000   \n",
      "75%                 59282.000000                 3034.000000   \n",
      "max                 87941.000000                 6822.000000   \n",
      "\n",
      "       РўРµСЂСЂРѕСЂРёР·Рј  Р­РєСЃС‚СЂРµРјРёР·Рј  РЈР±РёР№СЃС‚РІР°   \n",
      "count          205.000000            205.000000        205.000000  \\\n",
      "mean           197.839024             59.473171       1451.400000   \n",
      "std            245.462645             42.070500        687.713793   \n",
      "min             12.000000              2.000000        534.000000   \n",
      "25%             57.000000             26.000000        932.000000   \n",
      "50%            103.000000             52.000000       1200.000000   \n",
      "75%            184.000000             87.000000       1975.000000   \n",
      "max           1198.000000            174.000000       3099.000000   \n",
      "\n",
      "       Р’СЂРµРґ_Р·РґРѕСЂРѕРІСЊСЋ  РР·РЅР°СЃРёР»РѕРІР°РЅРёСЏ     РљСЂР°Р¶Рё   \n",
      "count                 205.000000                  205.000000     205.000000  \\\n",
      "mean                 3276.024390                  463.580488   92647.560976   \n",
      "std                  1013.861819                  188.413369   25376.346430   \n",
      "min                  1467.000000                  134.000000   50155.000000   \n",
      "25%                  2479.000000                  322.000000   72533.000000   \n",
      "50%                  3256.000000                  419.000000   88095.000000   \n",
      "75%                  4152.000000                  574.000000  107555.000000   \n",
      "max                  5578.000000                 1027.000000  153394.000000   \n",
      "\n",
      "       РЈРіРѕРЅ_Р°РІС‚РѕРјРѕР±РёР»РµР№  РњРѕС€РµРЅРЅРёС‡РµСЃС‚РІРѕ   \n",
      "count                       205.000000                  205.000000  \\\n",
      "mean                       4101.414634                15277.834146   \n",
      "std                        1565.682727                 4114.474680   \n",
      "min                        1092.000000                 5687.000000   \n",
      "25%                        2928.000000                12481.000000   \n",
      "50%                        3923.000000                15303.000000   \n",
      "75%                        5125.000000                18005.000000   \n",
      "max                        8251.000000                27980.000000   \n",
      "\n",
      "       РҐСѓР»РёРіР°РЅСЃС‚РІРѕ  РќР°СЂРєРѕС‚РёРєРё  РћСЂСѓР¶РёРµ  \n",
      "count              205.000000          205.000000    205.000000  \n",
      "mean              1457.648780        17644.356098   2525.019512  \n",
      "std               2560.889194         3068.123707    733.169890  \n",
      "min                132.000000         7275.000000   1637.000000  \n",
      "25%                261.000000        16006.000000   2029.000000  \n",
      "50%                486.000000        17924.000000   2351.000000  \n",
      "75%               1785.000000        19686.000000   2868.000000  \n",
      "max              12636.000000        25187.000000   5938.000000  \n"
     ]
    }
   ],
   "source": [
    "import pandas as pd\n",
    "\n",
    "# Загрузка данных\n",
    "data = pd.read_csv('crime.csv', encoding='utf-8')\n",
    "print(data.head())  # Показываем первые пять строк данных для обзора\n",
    "\n",
    "# 1.1 Описание организации как объекта управления\n",
    "# Описание того, как организация использует данные для управления ресурсами и процессами.\n",
    "\n",
    "# 1.2 Характеристика данных организации\n",
    "print(data.describe())  # Статистический обзор данных\n",
    "\n",
    "# 1.3 Обоснование применения технологий анализа данных\n",
    "# Объяснение, как анализ данных может помочь улучшить операционную эффективность и принятие решений.\n"
   ]
  },
  {
   "cell_type": "markdown",
   "metadata": {},
   "source": [
    "2. Техническое задание на создание ИАД-системы"
   ]
  },
  {
   "cell_type": "code",
   "execution_count": null,
   "metadata": {},
   "outputs": [],
   "source": [
    "# 2.1 Назначение и цель создания системы\n",
    "# Описание конечных целей системы и того, как она будет использоваться в организации.\n",
    "\n",
    "# 2.2 Состав функциональных задач системы\n",
    "# Перечисление ключевых функций, которые будет выполнять система.\n",
    "\n",
    "# 2.3 Требования к системе\n",
    "# Формулирование технических и пользовательских требований к системе.\n"
   ]
  },
  {
   "cell_type": "markdown",
   "metadata": {},
   "source": [
    "3. Разработка информационного обеспечения"
   ]
  },
  {
   "cell_type": "code",
   "execution_count": 4,
   "metadata": {},
   "outputs": [
    {
     "ename": "KeyError",
     "evalue": "'Всего_преступлений'",
     "output_type": "error",
     "traceback": [
      "\u001b[1;31m---------------------------------------------------------------------------\u001b[0m",
      "\u001b[1;31mKeyError\u001b[0m                                  Traceback (most recent call last)",
      "File \u001b[1;32mc:\\Users\\Tusk\\AppData\\Local\\Programs\\Python\\Python310\\lib\\site-packages\\pandas\\core\\indexes\\base.py:3652\u001b[0m, in \u001b[0;36mIndex.get_loc\u001b[1;34m(self, key)\u001b[0m\n\u001b[0;32m   3651\u001b[0m \u001b[38;5;28;01mtry\u001b[39;00m:\n\u001b[1;32m-> 3652\u001b[0m     \u001b[38;5;28;01mreturn\u001b[39;00m \u001b[38;5;28;43mself\u001b[39;49m\u001b[38;5;241;43m.\u001b[39;49m\u001b[43m_engine\u001b[49m\u001b[38;5;241;43m.\u001b[39;49m\u001b[43mget_loc\u001b[49m\u001b[43m(\u001b[49m\u001b[43mcasted_key\u001b[49m\u001b[43m)\u001b[49m\n\u001b[0;32m   3653\u001b[0m \u001b[38;5;28;01mexcept\u001b[39;00m \u001b[38;5;167;01mKeyError\u001b[39;00m \u001b[38;5;28;01mas\u001b[39;00m err:\n",
      "File \u001b[1;32mc:\\Users\\Tusk\\AppData\\Local\\Programs\\Python\\Python310\\lib\\site-packages\\pandas\\_libs\\index.pyx:147\u001b[0m, in \u001b[0;36mpandas._libs.index.IndexEngine.get_loc\u001b[1;34m()\u001b[0m\n",
      "File \u001b[1;32mc:\\Users\\Tusk\\AppData\\Local\\Programs\\Python\\Python310\\lib\\site-packages\\pandas\\_libs\\index.pyx:176\u001b[0m, in \u001b[0;36mpandas._libs.index.IndexEngine.get_loc\u001b[1;34m()\u001b[0m\n",
      "File \u001b[1;32mpandas\\_libs\\hashtable_class_helper.pxi:7080\u001b[0m, in \u001b[0;36mpandas._libs.hashtable.PyObjectHashTable.get_item\u001b[1;34m()\u001b[0m\n",
      "File \u001b[1;32mpandas\\_libs\\hashtable_class_helper.pxi:7088\u001b[0m, in \u001b[0;36mpandas._libs.hashtable.PyObjectHashTable.get_item\u001b[1;34m()\u001b[0m\n",
      "\u001b[1;31mKeyError\u001b[0m: 'Всего_преступлений'",
      "\nThe above exception was the direct cause of the following exception:\n",
      "\u001b[1;31mKeyError\u001b[0m                                  Traceback (most recent call last)",
      "Cell \u001b[1;32mIn[4], line 13\u001b[0m\n\u001b[0;32m     11\u001b[0m \u001b[38;5;66;03m# 3.3 Анализ и визуализация полученных данных\u001b[39;00m\n\u001b[0;32m     12\u001b[0m plt\u001b[38;5;241m.\u001b[39mfigure(figsize\u001b[38;5;241m=\u001b[39m(\u001b[38;5;241m10\u001b[39m, \u001b[38;5;241m5\u001b[39m))\n\u001b[1;32m---> 13\u001b[0m plt\u001b[38;5;241m.\u001b[39mplot(\u001b[43mdata\u001b[49m\u001b[43m[\u001b[49m\u001b[38;5;124;43m'\u001b[39;49m\u001b[38;5;124;43mВсего_преступлений\u001b[39;49m\u001b[38;5;124;43m'\u001b[39;49m\u001b[43m]\u001b[49m, label\u001b[38;5;241m=\u001b[39m\u001b[38;5;124m'\u001b[39m\u001b[38;5;124mВсего преступлений\u001b[39m\u001b[38;5;124m'\u001b[39m)\n\u001b[0;32m     14\u001b[0m plt\u001b[38;5;241m.\u001b[39mlegend()\n\u001b[0;32m     15\u001b[0m plt\u001b[38;5;241m.\u001b[39mshow()\n",
      "File \u001b[1;32mc:\\Users\\Tusk\\AppData\\Local\\Programs\\Python\\Python310\\lib\\site-packages\\pandas\\core\\frame.py:3761\u001b[0m, in \u001b[0;36mDataFrame.__getitem__\u001b[1;34m(self, key)\u001b[0m\n\u001b[0;32m   3759\u001b[0m \u001b[38;5;28;01mif\u001b[39;00m \u001b[38;5;28mself\u001b[39m\u001b[38;5;241m.\u001b[39mcolumns\u001b[38;5;241m.\u001b[39mnlevels \u001b[38;5;241m>\u001b[39m \u001b[38;5;241m1\u001b[39m:\n\u001b[0;32m   3760\u001b[0m     \u001b[38;5;28;01mreturn\u001b[39;00m \u001b[38;5;28mself\u001b[39m\u001b[38;5;241m.\u001b[39m_getitem_multilevel(key)\n\u001b[1;32m-> 3761\u001b[0m indexer \u001b[38;5;241m=\u001b[39m \u001b[38;5;28;43mself\u001b[39;49m\u001b[38;5;241;43m.\u001b[39;49m\u001b[43mcolumns\u001b[49m\u001b[38;5;241;43m.\u001b[39;49m\u001b[43mget_loc\u001b[49m\u001b[43m(\u001b[49m\u001b[43mkey\u001b[49m\u001b[43m)\u001b[49m\n\u001b[0;32m   3762\u001b[0m \u001b[38;5;28;01mif\u001b[39;00m is_integer(indexer):\n\u001b[0;32m   3763\u001b[0m     indexer \u001b[38;5;241m=\u001b[39m [indexer]\n",
      "File \u001b[1;32mc:\\Users\\Tusk\\AppData\\Local\\Programs\\Python\\Python310\\lib\\site-packages\\pandas\\core\\indexes\\base.py:3654\u001b[0m, in \u001b[0;36mIndex.get_loc\u001b[1;34m(self, key)\u001b[0m\n\u001b[0;32m   3652\u001b[0m     \u001b[38;5;28;01mreturn\u001b[39;00m \u001b[38;5;28mself\u001b[39m\u001b[38;5;241m.\u001b[39m_engine\u001b[38;5;241m.\u001b[39mget_loc(casted_key)\n\u001b[0;32m   3653\u001b[0m \u001b[38;5;28;01mexcept\u001b[39;00m \u001b[38;5;167;01mKeyError\u001b[39;00m \u001b[38;5;28;01mas\u001b[39;00m err:\n\u001b[1;32m-> 3654\u001b[0m     \u001b[38;5;28;01mraise\u001b[39;00m \u001b[38;5;167;01mKeyError\u001b[39;00m(key) \u001b[38;5;28;01mfrom\u001b[39;00m \u001b[38;5;21;01merr\u001b[39;00m\n\u001b[0;32m   3655\u001b[0m \u001b[38;5;28;01mexcept\u001b[39;00m \u001b[38;5;167;01mTypeError\u001b[39;00m:\n\u001b[0;32m   3656\u001b[0m     \u001b[38;5;66;03m# If we have a listlike key, _check_indexing_error will raise\u001b[39;00m\n\u001b[0;32m   3657\u001b[0m     \u001b[38;5;66;03m#  InvalidIndexError. Otherwise we fall through and re-raise\u001b[39;00m\n\u001b[0;32m   3658\u001b[0m     \u001b[38;5;66;03m#  the TypeError.\u001b[39;00m\n\u001b[0;32m   3659\u001b[0m     \u001b[38;5;28mself\u001b[39m\u001b[38;5;241m.\u001b[39m_check_indexing_error(key)\n",
      "\u001b[1;31mKeyError\u001b[0m: 'Всего_преступлений'"
     ]
    },
    {
     "data": {
      "text/plain": [
       "<Figure size 1000x500 with 0 Axes>"
      ]
     },
     "metadata": {},
     "output_type": "display_data"
    }
   ],
   "source": [
    "import pandas as pd\n",
    "import matplotlib.pyplot as plt\n",
    "\n",
    "# 3.1 Выбор источника и инструментальных средств для получения данных\n",
    "# Обсуждение источников данных и инструментов, используемых для сбора и обработки данных.\n",
    "\n",
    "# 3.2 Подготовка данных\n",
    "data = pd.read_csv('crime.csv')\n",
    "data.dropna(inplace=True)  # Очистка данных от пропусков\n",
    "\n",
    "# 3.3 Анализ и визуализация полученных данных\n",
    "plt.figure(figsize=(10, 5))\n",
    "plt.plot(data['Всего_преступлений'], label='Всего преступлений')\n",
    "plt.legend()\n",
    "plt.show()\n"
   ]
  },
  {
   "cell_type": "markdown",
   "metadata": {},
   "source": [
    "4. Разработка математического обеспечения"
   ]
  },
  {
   "cell_type": "code",
   "execution_count": 8,
   "metadata": {},
   "outputs": [
    {
     "ename": "KeyError",
     "evalue": "'Месяц'",
     "output_type": "error",
     "traceback": [
      "\u001b[1;31m---------------------------------------------------------------------------\u001b[0m",
      "\u001b[1;31mKeyError\u001b[0m                                  Traceback (most recent call last)",
      "File \u001b[1;32mc:\\Users\\Tusk\\AppData\\Local\\Programs\\Python\\Python310\\lib\\site-packages\\pandas\\core\\indexes\\base.py:3652\u001b[0m, in \u001b[0;36mIndex.get_loc\u001b[1;34m(self, key)\u001b[0m\n\u001b[0;32m   3651\u001b[0m \u001b[38;5;28;01mtry\u001b[39;00m:\n\u001b[1;32m-> 3652\u001b[0m     \u001b[38;5;28;01mreturn\u001b[39;00m \u001b[38;5;28;43mself\u001b[39;49m\u001b[38;5;241;43m.\u001b[39;49m\u001b[43m_engine\u001b[49m\u001b[38;5;241;43m.\u001b[39;49m\u001b[43mget_loc\u001b[49m\u001b[43m(\u001b[49m\u001b[43mcasted_key\u001b[49m\u001b[43m)\u001b[49m\n\u001b[0;32m   3653\u001b[0m \u001b[38;5;28;01mexcept\u001b[39;00m \u001b[38;5;167;01mKeyError\u001b[39;00m \u001b[38;5;28;01mas\u001b[39;00m err:\n",
      "File \u001b[1;32mc:\\Users\\Tusk\\AppData\\Local\\Programs\\Python\\Python310\\lib\\site-packages\\pandas\\_libs\\index.pyx:147\u001b[0m, in \u001b[0;36mpandas._libs.index.IndexEngine.get_loc\u001b[1;34m()\u001b[0m\n",
      "File \u001b[1;32mc:\\Users\\Tusk\\AppData\\Local\\Programs\\Python\\Python310\\lib\\site-packages\\pandas\\_libs\\index.pyx:176\u001b[0m, in \u001b[0;36mpandas._libs.index.IndexEngine.get_loc\u001b[1;34m()\u001b[0m\n",
      "File \u001b[1;32mpandas\\_libs\\hashtable_class_helper.pxi:7080\u001b[0m, in \u001b[0;36mpandas._libs.hashtable.PyObjectHashTable.get_item\u001b[1;34m()\u001b[0m\n",
      "File \u001b[1;32mpandas\\_libs\\hashtable_class_helper.pxi:7088\u001b[0m, in \u001b[0;36mpandas._libs.hashtable.PyObjectHashTable.get_item\u001b[1;34m()\u001b[0m\n",
      "\u001b[1;31mKeyError\u001b[0m: 'Месяц'",
      "\nThe above exception was the direct cause of the following exception:\n",
      "\u001b[1;31mKeyError\u001b[0m                                  Traceback (most recent call last)",
      "Cell \u001b[1;32mIn[8], line 10\u001b[0m\n\u001b[0;32m      5\u001b[0m \u001b[38;5;28;01mfrom\u001b[39;00m \u001b[38;5;21;01msklearn\u001b[39;00m\u001b[38;5;21;01m.\u001b[39;00m\u001b[38;5;21;01mmetrics\u001b[39;00m \u001b[38;5;28;01mimport\u001b[39;00m classification_report, accuracy_score\n\u001b[0;32m      8\u001b[0m \u001b[38;5;66;03m# 4.1 Обзор методов машинного обучения и оценок качества моделей\u001b[39;00m\n\u001b[0;32m      9\u001b[0m \u001b[38;5;66;03m# Конвертация даты в числовой формат для анализа\u001b[39;00m\n\u001b[1;32m---> 10\u001b[0m data[\u001b[38;5;124m'\u001b[39m\u001b[38;5;124mМесяц\u001b[39m\u001b[38;5;124m'\u001b[39m] \u001b[38;5;241m=\u001b[39m pd\u001b[38;5;241m.\u001b[39mto_datetime(\u001b[43mdata\u001b[49m\u001b[43m[\u001b[49m\u001b[38;5;124;43m'\u001b[39;49m\u001b[38;5;124;43mМесяц\u001b[39;49m\u001b[38;5;124;43m'\u001b[39;49m\u001b[43m]\u001b[49m, \u001b[38;5;28mformat\u001b[39m\u001b[38;5;241m=\u001b[39m\u001b[38;5;124m'\u001b[39m\u001b[38;5;132;01m%d\u001b[39;00m\u001b[38;5;124m.\u001b[39m\u001b[38;5;124m%\u001b[39m\u001b[38;5;124mm.\u001b[39m\u001b[38;5;124m%\u001b[39m\u001b[38;5;124mY\u001b[39m\u001b[38;5;124m'\u001b[39m)\u001b[38;5;241m.\u001b[39mdt\u001b[38;5;241m.\u001b[39mmonth\n\u001b[0;32m     11\u001b[0m \u001b[38;5;66;03m# Описание и сравнение различных методов машинного обучения.\u001b[39;00m\n\u001b[0;32m     12\u001b[0m \n\u001b[0;32m     13\u001b[0m \u001b[38;5;66;03m# 4.2 Выбор методов машинного обучения для анализа данных и выбор оценки качества модели\u001b[39;00m\n\u001b[0;32m     14\u001b[0m \n\u001b[0;32m     15\u001b[0m \u001b[38;5;66;03m# Разделение данных на признаки и целевую переменную\u001b[39;00m\n\u001b[0;32m     16\u001b[0m X \u001b[38;5;241m=\u001b[39m data\u001b[38;5;241m.\u001b[39mdrop(\u001b[38;5;124m'\u001b[39m\u001b[38;5;124mСерьезные\u001b[39m\u001b[38;5;124m'\u001b[39m, axis\u001b[38;5;241m=\u001b[39m\u001b[38;5;241m1\u001b[39m)  \u001b[38;5;66;03m# Используем все столбцы кроме 'Серьезные' как признаки\u001b[39;00m\n",
      "File \u001b[1;32mc:\\Users\\Tusk\\AppData\\Local\\Programs\\Python\\Python310\\lib\\site-packages\\pandas\\core\\frame.py:3761\u001b[0m, in \u001b[0;36mDataFrame.__getitem__\u001b[1;34m(self, key)\u001b[0m\n\u001b[0;32m   3759\u001b[0m \u001b[38;5;28;01mif\u001b[39;00m \u001b[38;5;28mself\u001b[39m\u001b[38;5;241m.\u001b[39mcolumns\u001b[38;5;241m.\u001b[39mnlevels \u001b[38;5;241m>\u001b[39m \u001b[38;5;241m1\u001b[39m:\n\u001b[0;32m   3760\u001b[0m     \u001b[38;5;28;01mreturn\u001b[39;00m \u001b[38;5;28mself\u001b[39m\u001b[38;5;241m.\u001b[39m_getitem_multilevel(key)\n\u001b[1;32m-> 3761\u001b[0m indexer \u001b[38;5;241m=\u001b[39m \u001b[38;5;28;43mself\u001b[39;49m\u001b[38;5;241;43m.\u001b[39;49m\u001b[43mcolumns\u001b[49m\u001b[38;5;241;43m.\u001b[39;49m\u001b[43mget_loc\u001b[49m\u001b[43m(\u001b[49m\u001b[43mkey\u001b[49m\u001b[43m)\u001b[49m\n\u001b[0;32m   3762\u001b[0m \u001b[38;5;28;01mif\u001b[39;00m is_integer(indexer):\n\u001b[0;32m   3763\u001b[0m     indexer \u001b[38;5;241m=\u001b[39m [indexer]\n",
      "File \u001b[1;32mc:\\Users\\Tusk\\AppData\\Local\\Programs\\Python\\Python310\\lib\\site-packages\\pandas\\core\\indexes\\base.py:3654\u001b[0m, in \u001b[0;36mIndex.get_loc\u001b[1;34m(self, key)\u001b[0m\n\u001b[0;32m   3652\u001b[0m     \u001b[38;5;28;01mreturn\u001b[39;00m \u001b[38;5;28mself\u001b[39m\u001b[38;5;241m.\u001b[39m_engine\u001b[38;5;241m.\u001b[39mget_loc(casted_key)\n\u001b[0;32m   3653\u001b[0m \u001b[38;5;28;01mexcept\u001b[39;00m \u001b[38;5;167;01mKeyError\u001b[39;00m \u001b[38;5;28;01mas\u001b[39;00m err:\n\u001b[1;32m-> 3654\u001b[0m     \u001b[38;5;28;01mraise\u001b[39;00m \u001b[38;5;167;01mKeyError\u001b[39;00m(key) \u001b[38;5;28;01mfrom\u001b[39;00m \u001b[38;5;21;01merr\u001b[39;00m\n\u001b[0;32m   3655\u001b[0m \u001b[38;5;28;01mexcept\u001b[39;00m \u001b[38;5;167;01mTypeError\u001b[39;00m:\n\u001b[0;32m   3656\u001b[0m     \u001b[38;5;66;03m# If we have a listlike key, _check_indexing_error will raise\u001b[39;00m\n\u001b[0;32m   3657\u001b[0m     \u001b[38;5;66;03m#  InvalidIndexError. Otherwise we fall through and re-raise\u001b[39;00m\n\u001b[0;32m   3658\u001b[0m     \u001b[38;5;66;03m#  the TypeError.\u001b[39;00m\n\u001b[0;32m   3659\u001b[0m     \u001b[38;5;28mself\u001b[39m\u001b[38;5;241m.\u001b[39m_check_indexing_error(key)\n",
      "\u001b[1;31mKeyError\u001b[0m: 'Месяц'"
     ]
    }
   ],
   "source": [
    "# Импортируем необходимые библиотеки\n",
    "import pandas as pd\n",
    "from sklearn.model_selection import train_test_split\n",
    "from sklearn.linear_model import LogisticRegression\n",
    "from sklearn.metrics import classification_report, accuracy_score\n",
    "\n",
    "\n",
    "# 4.1 Обзор методов машинного обучения и оценок качества моделей\n",
    "# Конвертация даты в числовой формат для анализа\n",
    "data['Месяц'] = pd.to_datetime(data['Месяц'], format='%d.%m.%Y').dt.month\n",
    "# Описание и сравнение различных методов машинного обучения.\n",
    "\n",
    "# 4.2 Выбор методов машинного обучения для анализа данных и выбор оценки качества модели\n",
    "\n",
    "# Разделение данных на признаки и целевую переменную\n",
    "X = data.drop('Серьезные', axis=1)  # Используем все столбцы кроме 'Серьезные' как признаки\n",
    "y = data['Серьезные']  # 'Серьезные' будет целевой переменной\n",
    "\n",
    "# Разделение данных на обучающую и тестовую выборку\n",
    "X_train, X_test, y_train, y_test = train_test_split(X, y, test_size=0.3, random_state=42)\n",
    "\n",
    "# Выбор модели и метрик оценки\n",
    "# Использование логистической регрессии для классификации\n",
    "model = LogisticRegression(max_iter=1000)\n",
    "model.fit(X_train, y_train)  # Обучение модели\n",
    "\n",
    "# Предсказание на тестовой выборке\n",
    "predictions = model.predict(X_test)\n",
    "\n",
    "# Оценка модели\n",
    "print(classification_report(y_test, predictions))\n",
    "\n",
    "\n",
    "# 4.3 Разработка математической модели\n",
    "# Импорт необходимых библиотек для визуализации\n",
    "import matplotlib.pyplot as plt\n",
    "import seaborn as sns\n",
    "\n",
    "# Визуализация важности признаков\n",
    "feature_importance = pd.DataFrame(model.coef_[0], index=X.columns, columns=['importance']).sort_values('importance', ascending=False)\n",
    "sns.barplot(x=feature_importance.importance, y=feature_importance.index)\n",
    "plt.title('Важность признаков')\n",
    "plt.show()\n",
    "\n",
    "# Это помогает понять, какие признаки наиболее влияют на предсказания модели\n",
    "# Такие анализы полезны для оптимизации и улучшения модели"
   ]
  },
  {
   "cell_type": "markdown",
   "metadata": {},
   "source": [
    "5. Разработка программного обеспечения"
   ]
  },
  {
   "cell_type": "code",
   "execution_count": 7,
   "metadata": {},
   "outputs": [],
   "source": [
    "# 5.1 Выбор инструментальных средств разработки\n",
    "# Описание используемых программных инструментов и библиотек.\n",
    "\n",
    "# 5.2 Структурная организация программного обеспечения\n",
    "# Описание архитектуры программного решения.\n",
    "\n",
    "# 5.3 Описание программного обеспечения\n",
    "# Документация функциональности и интерфейсов системы.\n"
   ]
  },
  {
   "cell_type": "markdown",
   "metadata": {},
   "source": [
    "6. Анализ результатов"
   ]
  },
  {
   "cell_type": "code",
   "execution_count": 6,
   "metadata": {},
   "outputs": [],
   "source": [
    "# 6. Анализ результатов работы системы\n",
    "# Оценка эффективности системы, обсуждение достигнутых результатов и возможных улучшений."
   ]
  }
 ],
 "metadata": {
  "kernelspec": {
   "display_name": "Python 3",
   "language": "python",
   "name": "python3"
  },
  "language_info": {
   "codemirror_mode": {
    "name": "ipython",
    "version": 3
   },
   "file_extension": ".py",
   "mimetype": "text/x-python",
   "name": "python",
   "nbconvert_exporter": "python",
   "pygments_lexer": "ipython3",
   "version": "3.10.10"
  }
 },
 "nbformat": 4,
 "nbformat_minor": 2
}
